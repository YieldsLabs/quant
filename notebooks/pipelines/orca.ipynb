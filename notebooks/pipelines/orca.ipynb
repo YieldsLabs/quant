{
 "cells": [
  {
   "cell_type": "code",
   "execution_count": 4,
   "metadata": {},
   "outputs": [],
   "source": [
    "import numpy as np\n",
    "import pandas as pd\n",
    "import torch"
   ]
  },
  {
   "cell_type": "code",
   "execution_count": 5,
   "metadata": {},
   "outputs": [],
   "source": [
    "def set_seed(seed: int):\n",
    "    np.random.seed(seed)\n",
    "    torch.manual_seed(seed)\n",
    "\n",
    "    if torch.cuda.is_available():\n",
    "        torch.cuda.manual_seed_all(seed)\n",
    "\n",
    "    if torch.backends.mps.is_available():\n",
    "        torch.mps.manual_seed(seed)\n",
    "\n",
    "seed = 1337\n",
    "set_seed(seed)"
   ]
  },
  {
   "cell_type": "code",
   "execution_count": 6,
   "metadata": {},
   "outputs": [],
   "source": [
    "import os\n",
    "import sys\n",
    "\n",
    "notebook_dir = os.getcwd()\n",
    "\n",
    "root_dir = os.path.abspath(os.path.join(notebook_dir, \"../../\"))\n",
    "sys.path.append(root_dir)"
   ]
  },
  {
   "cell_type": "code",
   "execution_count": 12,
   "metadata": {},
   "outputs": [],
   "source": [
    "from dotenv import load_dotenv\n",
    "\n",
    "load_dotenv()\n",
    "\n",
    "from service import EnvironmentSecretService\n",
    "from coral import DataSourceFactory\n",
    "from core.models.lookback import Lookback\n",
    "from core.models.timeframe import Timeframe\n",
    "from core.models.datasource_type import DataSourceType\n",
    "from core.models.protocol_type import ProtocolType"
   ]
  },
  {
   "cell_type": "code",
   "execution_count": 9,
   "metadata": {},
   "outputs": [],
   "source": [
    "DEFAULT_DATASOUCE = DataSourceType.BYBIT\n",
    "DEFAULT_TIMEFRAME = Timeframe.FIFTEEN_MINUTES\n",
    "DEFAULT_LOOKBACK = Lookback.EIGHT_MONTH"
   ]
  },
  {
   "cell_type": "code",
   "execution_count": 11,
   "metadata": {},
   "outputs": [],
   "source": [
    "datasource = DataSourceFactory(EnvironmentSecretService())\n",
    "datasource.register_rest_exchange(DEFAULT_DATASOUCE)"
   ]
  },
  {
   "cell_type": "code",
   "execution_count": 17,
   "metadata": {},
   "outputs": [
    {
     "data": {
      "text/plain": [
       "(30, 2)"
      ]
     },
     "execution_count": 17,
     "metadata": {},
     "output_type": "execute_result"
    }
   ],
   "source": [
    "ds = datasource.create(DEFAULT_DATASOUCE, ProtocolType.REST)\n",
    "\n",
    "symbols = ds.fetch_future_symbols()\n",
    "\n",
    "ob = ds.fetch_order_book(symbols[0])\n",
    "bids, asks = np.array(ob[0]), np.array(ob[1])\n",
    "\n",
    "bids.shape"
   ]
  }
 ],
 "metadata": {
  "kernelspec": {
   "display_name": ".venv",
   "language": "python",
   "name": "python3"
  },
  "language_info": {
   "codemirror_mode": {
    "name": "ipython",
    "version": 3
   },
   "file_extension": ".py",
   "mimetype": "text/x-python",
   "name": "python",
   "nbconvert_exporter": "python",
   "pygments_lexer": "ipython3",
   "version": "3.12.7"
  },
  "orig_nbformat": 4
 },
 "nbformat": 4,
 "nbformat_minor": 2
}
