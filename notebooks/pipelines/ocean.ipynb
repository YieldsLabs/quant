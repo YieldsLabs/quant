{
 "cells": [
  {
   "cell_type": "code",
   "execution_count": 1,
   "metadata": {},
   "outputs": [],
   "source": [
    "import pandas as pd\n",
    "import numpy as np\n",
    "import seaborn as sns\n",
    "import matplotlib.pyplot as plt\n",
    "import faiss\n",
    "import tensorflow as tf\n",
    "from sklearn.preprocessing import StandardScaler\n",
    "from sklearn.cluster import KMeans"
   ]
  },
  {
   "cell_type": "code",
   "execution_count": 2,
   "metadata": {},
   "outputs": [],
   "source": [
    "import sys\n",
    "import os\n",
    "\n",
    "notebook_dir = os.getcwd()\n",
    "\n",
    "root_dir = os.path.abspath(os.path.join(notebook_dir, \"../../\"))\n",
    "sys.path.append(root_dir)"
   ]
  },
  {
   "cell_type": "code",
   "execution_count": 3,
   "metadata": {},
   "outputs": [],
   "source": [
    "from dotenv import load_dotenv\n",
    "\n",
    "load_dotenv()\n",
    "\n",
    "from service import EnvironmentSecretService"
   ]
  },
  {
   "cell_type": "code",
   "execution_count": 4,
   "metadata": {},
   "outputs": [],
   "source": [
    "from core.models.exchange import ExchangeType\n",
    "from exchange import ExchangeFactory\n",
    "from core.models.timeframe import Timeframe\n",
    "from core.models.lookback import Lookback\n",
    "from core.models.cap import CapType"
   ]
  },
  {
   "cell_type": "code",
   "execution_count": 5,
   "metadata": {},
   "outputs": [],
   "source": [
    "DEFAULT_EXCHANGE = ExchangeType.BYBIT\n",
    "DEFAULT_TIMEFRAME = Timeframe.ONE_HOUR\n",
    "DEFAULT_LOOKBACK = Lookback.SIX_MONTH\n",
    "\n",
    "from datetime import datetime\n",
    "emb_filename = f'ocean_emb_{datetime.now().strftime('%Y-%m-%d')}.npy'\n",
    "volume_df_filename = f'ocean_ft_{datetime.now().strftime('%Y-%m-%d')}.csv'"
   ]
  },
  {
   "cell_type": "code",
   "execution_count": 6,
   "metadata": {},
   "outputs": [],
   "source": [
    "exchange_factory = ExchangeFactory(EnvironmentSecretService())\n",
    "exchange = exchange_factory.create(DEFAULT_EXCHANGE)"
   ]
  },
  {
   "cell_type": "code",
   "execution_count": 10,
   "metadata": {},
   "outputs": [],
   "source": [
    "symbols = exchange.fetch_future_symbols()\n",
    "\n",
    "data = []\n",
    "for symbol in symbols:\n",
    "    for ohlcv in exchange.fetch_ohlcv(symbol, DEFAULT_TIMEFRAME, DEFAULT_LOOKBACK):\n",
    "        _timestamp, _open, _high, _low, _close, _volume = ohlcv\n",
    "        data.append([symbol.name, _timestamp, _open, _high, _low, _close, _volume])\n",
    "\n",
    "symbols_df = pd.DataFrame(data, columns=['Symbol', 'Timestamp', 'Open', 'High', 'Low', 'Close', 'Volume'])\n",
    "symbols_df['Timestamp'] = pd.to_datetime(symbols_df['Timestamp'], unit='ms')\n",
    "symbols_df.sort_values(by=['Symbol', 'Timestamp'], inplace=True)"
   ]
  },
  {
   "cell_type": "code",
   "execution_count": 7,
   "metadata": {},
   "outputs": [],
   "source": [
    "def volume_features(df):\n",
    "    df = df.copy()\n",
    "\n",
    "    df['Date'] = df['Timestamp'].dt.date\n",
    "\n",
    "    df['ADV'] = df.groupby(['Symbol', 'Date'])['Volume'].transform('mean')\n",
    "\n",
    "    df['Typical Price'] = (df['High'] + df['Low'] + df['Close']) / 3\n",
    "    df['Cumulative Price * Volume'] = df['Typical Price'] * df['Volume']\n",
    "\n",
    "    df['Cum_Volume'] = df.groupby(['Symbol', 'Date'])['Volume'].cumsum()\n",
    "    df['Cum_Price_Volume'] = df.groupby(['Symbol', 'Date'])['Cumulative Price * Volume'].cumsum()\n",
    "    df['VWAP'] = df['Cum_Price_Volume'] / df['Cum_Volume']\n",
    "\n",
    "    df['Price Change'] = df.groupby(['Symbol', 'Date'])['Close'].diff()\n",
    "    \n",
    "    def obv(group):\n",
    "        obv = (group['Volume'].where(group['Price Change'] > 0, -group['Volume'])\n",
    "               .where(group['Price Change'] != 0, 0).cumsum())\n",
    "        return obv\n",
    "\n",
    "    df['OBV'] = df.groupby(['Symbol', 'Date']).apply(obv, include_groups=False).reset_index(drop=True)\n",
    "\n",
    "    df.drop(columns=['Date', 'Typical Price', 'Cum_Volume', 'Cum_Price_Volume', 'Cumulative Price * Volume', 'Price Change'], inplace=True)\n",
    "\n",
    "    return df"
   ]
  },
  {
   "cell_type": "code",
   "execution_count": 14,
   "metadata": {},
   "outputs": [],
   "source": [
    "volume_df.to_csv(volume_df_filename, index=False)"
   ]
  },
  {
   "cell_type": "code",
   "execution_count": 9,
   "metadata": {},
   "outputs": [
    {
     "data": {
      "text/html": [
       "<div>\n",
       "<style scoped>\n",
       "    .dataframe tbody tr th:only-of-type {\n",
       "        vertical-align: middle;\n",
       "    }\n",
       "\n",
       "    .dataframe tbody tr th {\n",
       "        vertical-align: top;\n",
       "    }\n",
       "\n",
       "    .dataframe thead th {\n",
       "        text-align: right;\n",
       "    }\n",
       "</style>\n",
       "<table border=\"1\" class=\"dataframe\">\n",
       "  <thead>\n",
       "    <tr style=\"text-align: right;\">\n",
       "      <th></th>\n",
       "      <th>Symbol</th>\n",
       "      <th>Timestamp</th>\n",
       "      <th>Open</th>\n",
       "      <th>High</th>\n",
       "      <th>Low</th>\n",
       "      <th>Close</th>\n",
       "      <th>Volume</th>\n",
       "      <th>ADV</th>\n",
       "      <th>VWAP</th>\n",
       "      <th>OBV</th>\n",
       "    </tr>\n",
       "  </thead>\n",
       "  <tbody>\n",
       "    <tr>\n",
       "      <th>0</th>\n",
       "      <td>10000000AIDOGEUSDT</td>\n",
       "      <td>2024-03-28 16:00:00</td>\n",
       "      <td>0.006066</td>\n",
       "      <td>0.006093</td>\n",
       "      <td>0.005933</td>\n",
       "      <td>0.005960</td>\n",
       "      <td>51224500.0</td>\n",
       "      <td>26869925.0</td>\n",
       "      <td>0.005995</td>\n",
       "      <td>-51224500.0</td>\n",
       "    </tr>\n",
       "    <tr>\n",
       "      <th>1</th>\n",
       "      <td>10000000AIDOGEUSDT</td>\n",
       "      <td>2024-03-28 17:00:00</td>\n",
       "      <td>0.005960</td>\n",
       "      <td>0.005980</td>\n",
       "      <td>0.005906</td>\n",
       "      <td>0.005940</td>\n",
       "      <td>20305900.0</td>\n",
       "      <td>26869925.0</td>\n",
       "      <td>0.005980</td>\n",
       "      <td>-71530400.0</td>\n",
       "    </tr>\n",
       "    <tr>\n",
       "      <th>2</th>\n",
       "      <td>10000000AIDOGEUSDT</td>\n",
       "      <td>2024-03-28 18:00:00</td>\n",
       "      <td>0.005940</td>\n",
       "      <td>0.005989</td>\n",
       "      <td>0.005927</td>\n",
       "      <td>0.005966</td>\n",
       "      <td>14693700.0</td>\n",
       "      <td>26869925.0</td>\n",
       "      <td>0.005977</td>\n",
       "      <td>-56836700.0</td>\n",
       "    </tr>\n",
       "    <tr>\n",
       "      <th>3</th>\n",
       "      <td>10000000AIDOGEUSDT</td>\n",
       "      <td>2024-03-28 19:00:00</td>\n",
       "      <td>0.005966</td>\n",
       "      <td>0.006010</td>\n",
       "      <td>0.005945</td>\n",
       "      <td>0.006003</td>\n",
       "      <td>17056200.0</td>\n",
       "      <td>26869925.0</td>\n",
       "      <td>0.005978</td>\n",
       "      <td>-39780500.0</td>\n",
       "    </tr>\n",
       "    <tr>\n",
       "      <th>4</th>\n",
       "      <td>10000000AIDOGEUSDT</td>\n",
       "      <td>2024-03-28 20:00:00</td>\n",
       "      <td>0.006003</td>\n",
       "      <td>0.006033</td>\n",
       "      <td>0.005968</td>\n",
       "      <td>0.005983</td>\n",
       "      <td>24093500.0</td>\n",
       "      <td>26869925.0</td>\n",
       "      <td>0.005981</td>\n",
       "      <td>-63874000.0</td>\n",
       "    </tr>\n",
       "  </tbody>\n",
       "</table>\n",
       "</div>"
      ],
      "text/plain": [
       "               Symbol            Timestamp      Open      High       Low  \\\n",
       "0  10000000AIDOGEUSDT  2024-03-28 16:00:00  0.006066  0.006093  0.005933   \n",
       "1  10000000AIDOGEUSDT  2024-03-28 17:00:00  0.005960  0.005980  0.005906   \n",
       "2  10000000AIDOGEUSDT  2024-03-28 18:00:00  0.005940  0.005989  0.005927   \n",
       "3  10000000AIDOGEUSDT  2024-03-28 19:00:00  0.005966  0.006010  0.005945   \n",
       "4  10000000AIDOGEUSDT  2024-03-28 20:00:00  0.006003  0.006033  0.005968   \n",
       "\n",
       "      Close      Volume         ADV      VWAP         OBV  \n",
       "0  0.005960  51224500.0  26869925.0  0.005995 -51224500.0  \n",
       "1  0.005940  20305900.0  26869925.0  0.005980 -71530400.0  \n",
       "2  0.005966  14693700.0  26869925.0  0.005977 -56836700.0  \n",
       "3  0.006003  17056200.0  26869925.0  0.005978 -39780500.0  \n",
       "4  0.005983  24093500.0  26869925.0  0.005981 -63874000.0  "
      ]
     },
     "execution_count": 9,
     "metadata": {},
     "output_type": "execute_result"
    }
   ],
   "source": [
    "volume_df = pd.read_csv(volume_df_filename)\n",
    "volume_df.head()"
   ]
  },
  {
   "cell_type": "code",
   "execution_count": 10,
   "metadata": {},
   "outputs": [],
   "source": [
    "features = volume_df[['ADV', 'VWAP', 'OBV']].to_numpy()\n",
    "\n",
    "scaler = StandardScaler()\n",
    "normalized_features = scaler.fit_transform(features)\n",
    "\n",
    "batch_size = 2\n",
    "dataset = tf.data.Dataset.from_tensor_slices(normalized_features)\n",
    "dataset = dataset.shuffle(buffer_size=len(normalized_features)).batch(batch_size)"
   ]
  },
  {
   "cell_type": "code",
   "execution_count": 14,
   "metadata": {},
   "outputs": [],
   "source": [
    "class Autoencoder(tf.keras.Model):\n",
    "    def __init__(self, feature_dim, output_dim):\n",
    "        super(Autoencoder, self).__init__()\n",
    "\n",
    "        self.encoder = tf.keras.Sequential([\n",
    "            tf.keras.Input(shape=(feature_dim,)),\n",
    "            tf.keras.layers.Dense(64, activation='relu'),\n",
    "            tf.keras.layers.Dense(32, activation='relu'),\n",
    "            tf.keras.layers.Dense(output_dim)\n",
    "        ])\n",
    "\n",
    "        self.decoder = tf.keras.Sequential([\n",
    "            tf.keras.Input(shape=(output_dim,)),\n",
    "            tf.keras.layers.Dense(32, activation='relu'),\n",
    "            tf.keras.layers.Dense(64, activation='relu'),\n",
    "            tf.keras.layers.Dense(feature_dim)\n",
    "        ])\n",
    "\n",
    "    def call(self, x):\n",
    "        encoded = self.encoder(x)\n",
    "        decoded = self.decoder(encoded)\n",
    "        return decoded"
   ]
  },
  {
   "cell_type": "code",
   "execution_count": 15,
   "metadata": {},
   "outputs": [],
   "source": [
    "input_dim = normalized_features.shape[1]\n",
    "output_dim = 10\n",
    "autoencoder = Autoencoder(feature_dim=input_dim, output_dim=output_dim)\n",
    "\n",
    "criterion = tf.keras.losses.MeanSquaredError()\n",
    "optimizer = tf.keras.optimizers.Adam(learning_rate=0.001)\n",
    "\n",
    "autoencoder.compile(optimizer=optimizer, loss=criterion)"
   ]
  },
  {
   "cell_type": "code",
   "execution_count": 16,
   "metadata": {},
   "outputs": [],
   "source": [
    "num_epochs = 100\n",
    "\n",
    "for epoch in range(num_epochs):\n",
    "    for step, input_data in enumerate(dataset):\n",
    "        with tf.GradientTape() as tape:\n",
    "            decoded = autoencoder(input_data)\n",
    "            loss = criterion(input_data, decoded)\n",
    "        gradients = tape.gradient(loss, autoencoder.trainable_variables)\n",
    "        optimizer.apply_gradients(zip(gradients, autoencoder.trainable_variables))\n",
    "    \n",
    "    print(f\"Epoch {epoch + 1}, Loss: {loss.numpy()}\")"
   ]
  },
  {
   "cell_type": "code",
   "execution_count": null,
   "metadata": {},
   "outputs": [],
   "source": [
    "encoder_model = autoencoder.encoder\n",
    "embeddings = encoder_model(normalized_features)\n",
    "\n",
    "np.save(emb_filename, embeddings.numpy())"
   ]
  }
 ],
 "metadata": {
  "kernelspec": {
   "display_name": "quant-ItqfnwFL",
   "language": "python",
   "name": "python3"
  },
  "language_info": {
   "codemirror_mode": {
    "name": "ipython",
    "version": 3
   },
   "file_extension": ".py",
   "mimetype": "text/x-python",
   "name": "python",
   "nbconvert_exporter": "python",
   "pygments_lexer": "ipython3",
   "version": "3.12.6"
  },
  "orig_nbformat": 4
 },
 "nbformat": 4,
 "nbformat_minor": 2
}
